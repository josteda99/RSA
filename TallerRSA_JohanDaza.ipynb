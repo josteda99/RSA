{
  "nbformat": 4,
  "nbformat_minor": 0,
  "metadata": {
    "colab": {
      "name": "TallerRSA_JohanDaza.ipynb",
      "provenance": []
    },
    "kernelspec": {
      "name": "python3",
      "display_name": "Python 3"
    }
  },
  "cells": [
    {
      "cell_type": "markdown",
      "metadata": {
        "id": "pRvXhRM2PN_Z",
        "colab_type": "text"
      },
      "source": [
        "RSA\n",
        "\n"
      ]
    },
    {
      "cell_type": "markdown",
      "metadata": {
        "id": "ewsB-f-1sAZn",
        "colab_type": "text"
      },
      "source": [
        "por: johan Daza\n"
      ]
    },
    {
      "cell_type": "markdown",
      "metadata": {
        "id": "Un3BSQkpQL3l",
        "colab_type": "text"
      },
      "source": [
        "el RSA es un sistema criptografico de clave publica desarrollado en 1979, para compreder como funciona debemos entender diferentes conceptos, para eso lo veremos en un ejemplo."
      ]
    },
    {
      "cell_type": "markdown",
      "metadata": {
        "id": "644pXgyZQf3c",
        "colab_type": "text"
      },
      "source": [
        "Supongamos que tenemos un amigo llamado david al cual queremos enviarle un mensaje encriptado, para eso david nos envia una caja cerrada con candado con un orificio donde introduciremos el mensaje, posteriormente le devolveremos la caja a david ya que es el unico que puede abrir el candado de la caja con una llave que solo el posee."
      ]
    },
    {
      "cell_type": "markdown",
      "metadata": {
        "id": "R4ThNEFoRMtK",
        "colab_type": "text"
      },
      "source": [
        "entonces tenemos los siguintes elementos:\n",
        "\n",
        "\n",
        "*   llave para abrir la caja: llave privada\n",
        "*   caja : llave publica\n",
        "*   mensaje para david : mensaje llano\n",
        "*   mensaje cifrado introducido en la caja: mensaje cifrado\n",
        "\n"
      ]
    },
    {
      "cell_type": "markdown",
      "metadata": {
        "id": "EpzjvBMGSnDN",
        "colab_type": "text"
      },
      "source": [
        "la magia de RSA es que los mensajes son encriptados generando claves apartir de numeros primos. supongamos que enviamos un mensaje encriptado con una serie de operaciones con numeros primos, el objetivo de encriptar un mensaje es que solo determinadas personas puedan ver dicho mensaje, es por eso que si otra persona ajena quiere conocer el contenido del mensaje tendra que realizar determinadas operaciones probando con diferentes numeros para encontrar dicho mensaje, el problema radica en que RSA esta basado en operacion modulares con potencias muy grandes, es decir que la persona ajena que quiera ver el mensaje tendra que descomponer diferentes numeros para encontrar la llave privada y asi descifrarlo, sin embargo ¿como puedo saber cuales son los factores primos de un numero? para ello bastaria simplemente en tomar un numero X cualquiera y empezar con los factores primos desde el 2, 3, 5, 7 ,..., pero ¿y si el numero tiene como factor primo el 2^{77.232.917}-1(ejemplo de numero primo gigante), la busqueda sera muy dificil ademas de necesitar muchos recursos computacionales. \n"
      ]
    },
    {
      "cell_type": "code",
      "metadata": {
        "id": "FPW0zPYPTNXo",
        "colab_type": "code",
        "colab": {}
      },
      "source": [
        "#definimos dos primos con igual cantidad de bits p y q\n",
        "p = 61\n",
        "q = 53\n",
        "\n",
        "#calculamos n como el producto de p y q\n",
        "n = p * q\n",
        "\n",
        "#entero e menor a funE y coprimo con funE\n",
        "e = 17"
      ],
      "execution_count": 0,
      "outputs": []
    },
    {
      "cell_type": "markdown",
      "metadata": {
        "id": "bHmfiY5xTdWl",
        "colab_type": "text"
      },
      "source": [
        "n nos servira para codificar y decodificar el mensaje, es el numero con los que se va a realizar modulo"
      ]
    },
    {
      "cell_type": "markdown",
      "metadata": {
        "id": "86gP7paqUO96",
        "colab_type": "text"
      },
      "source": [
        "creamos la funciones de euler la cual nos servira para determina un valor 'd' que sera usado como el exponente privado, eso se usa a la hora de descifrar los mensajes, 'd' sale apartir de escoger un numero 'e' menor a la funcion funE() y coprimo con funE(), en este caso para este ejemplo escogemos e = 17"
      ]
    },
    {
      "cell_type": "code",
      "metadata": {
        "id": "xRcC3BwdT85g",
        "colab_type": "code",
        "colab": {}
      },
      "source": [
        "#funcion euler\n",
        "def euler():\n",
        "    funE = (p-1)*(q-1)\n",
        "    return funE\n",
        "\n",
        "#funcion para encontrar el exponente privado d\n",
        "def foundD(e):\n",
        "    funE = euler()\n",
        "    i = 1\n",
        "    d = 1.1\n",
        "    while d % 1 != 0:#itera hasta que d sea un entero \n",
        "        d = ((funE*i)+1)/e\n",
        "        i = i + 1\n",
        "    return d;\n",
        "\n",
        "\n",
        "#la funcion foundD es muy ineficiente pero es para observar el como funcionaria todas las operaciones con modulo"
      ],
      "execution_count": 0,
      "outputs": []
    },
    {
      "cell_type": "markdown",
      "metadata": {
        "id": "ryXu5L-yQ1-O",
        "colab_type": "text"
      },
      "source": [
        "la funcion de euler se calcula con la siguiente expresion.\n",
        "$$\\varphi (n)=(p-1)(q-1)$$"
      ]
    },
    {
      "cell_type": "markdown",
      "metadata": {
        "id": "lcEMuo2WNp4C",
        "colab_type": "text"
      },
      "source": [
        "para encontrar el valor del exponente privado necesitamos que satisfaga la congruencia: $$e\\cdot d\\equiv 1 (mod (funE))$$\n",
        "siendo funE la funcion de euler\n",
        "$$\\varphi (n)=funE$$\n",
        "lo que hace la funcion es reescribir la congruencia quedando:\n",
        "$$funE(n)\\mid e\\cdot d-1$$\n",
        "ahora redefinimos la expresion para que quede como una ecuacion de multiplicacion\n",
        "$$funE\\cdot x=e\\cdot d-1$$\n",
        "y con esto despejamos d quedando:\n",
        "$$\\frac{funE\\cdot x+1}{e}= d$$\n",
        "donde x es un entero, lo que se hace en la funcion es con un ciclo encontrar el valor x que haga el valor de d entero "
      ]
    },
    {
      "cell_type": "markdown",
      "metadata": {
        "id": "1chmE_KFZc0z",
        "colab_type": "text"
      },
      "source": [
        "con los valores de 'n', 'd', y 'e' ya tendriamos las claves quedando:\n",
        "\n",
        "1.   clave publica = (n,e) **la caja**\n",
        "2.   clave privada = (n,d) **llave para abrir la caja**\n",
        "\n"
      ]
    },
    {
      "cell_type": "markdown",
      "metadata": {
        "id": "_RQAHx6aVife",
        "colab_type": "text"
      },
      "source": [
        "apartir de aqui creamos la funcion encrypted(), lo que hace es tomar un mensaje y elevarlo con e, luego lo divide entre el valor n, el razonamiento de encriptar el mensaje es operar c congruente m^e, donde m es el mensaje, c es el mensaje cifrado.\n",
        "$$m^{e} mod(n)$$"
      ]
    },
    {
      "cell_type": "code",
      "metadata": {
        "id": "VgOCVWzLV17A",
        "colab_type": "code",
        "colab": {}
      },
      "source": [
        "#funcion cifrar\n",
        "def encrypted(m=1):\n",
        "    menEnc = (m**e)%n\n",
        "    return menEnc"
      ],
      "execution_count": 0,
      "outputs": []
    },
    {
      "cell_type": "markdown",
      "metadata": {
        "id": "LW0eyZ0TWDR1",
        "colab_type": "text"
      },
      "source": [
        "creamos ahora la funcion desencrypted(), lo que hace es tomar el mensaje, elevarlo con d y dividirlo entre el valor n, el razonamiento de desencriptar el mensaje es operar m congruente c^d.\n",
        "$$c^{d} mod(n)$$"
      ]
    },
    {
      "cell_type": "code",
      "metadata": {
        "id": "ZLvGe8AaWYIr",
        "colab_type": "code",
        "colab": {}
      },
      "source": [
        "#funcion descifrar\n",
        "def descrypted(menEnc):\n",
        "    menReal = (menEnc**d)%n\n",
        "    return menReal\n",
        "\n",
        "#xponente privado\n",
        "d = int(foundD(e))"
      ],
      "execution_count": 0,
      "outputs": []
    },
    {
      "cell_type": "markdown",
      "metadata": {
        "id": "tq2WkYSVWahd",
        "colab_type": "text"
      },
      "source": [
        "el programa de pruebas:"
      ]
    },
    {
      "cell_type": "code",
      "metadata": {
        "id": "4V4GOKzVauEF",
        "colab_type": "code",
        "outputId": "5dabb173-a6e9-42b5-faa9-1e095ef4a772",
        "colab": {
          "base_uri": "https://localhost:8080/",
          "height": 119
        }
      },
      "source": [
        "print(\"la clave publica es:\")\n",
        "print(n,\" \",e)\n",
        "\n",
        "#me mandan la clave publica y con ella introdusco el mensaje \n",
        "menNC = input(\"introduzca el mensaje a encryptar\")\n",
        "menEnc = encrypted(int(menNC))\n",
        "print(\"lo que se manda:\", menEnc)\n",
        "\n",
        "#si la otra persona desea desencriptar\n",
        "menBox = input(\"cual es el mensaje a desencryptar?:\")\n",
        "print(descrypted(int(menBox)))"
      ],
      "execution_count": 0,
      "outputs": [
        {
          "output_type": "stream",
          "text": [
            "la clave publica es:\n",
            "3233   17\n",
            "introduzca el mensaje a encryptar123\n",
            "lo que se manda: 855\n",
            "cual es el mensaje a desencryptar?:855\n",
            "123\n"
          ],
          "name": "stdout"
        }
      ]
    },
    {
      "cell_type": "markdown",
      "metadata": {
        "id": "lA2DQeRMq20i",
        "colab_type": "text"
      },
      "source": [
        "para el ejemplo, los numeros que se escogieron son muy pequeños por lo que son muy inseguros, es por eso que el RSA se basa en la utilizacion de numero primos muy grandes.\n",
        "\n"
      ]
    },
    {
      "cell_type": "markdown",
      "metadata": {
        "id": "TKJtWWO8rt6K",
        "colab_type": "text"
      },
      "source": [
        "existen diferentes metodos para saber si un numero es primo o no, algunos mas eficientes que otros sin embargo para realizar estos calculos son necesarios muchos recursos computacionales.\n"
      ]
    }
  ]
}